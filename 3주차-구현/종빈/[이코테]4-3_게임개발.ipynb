{
 "cells": [
  {
   "cell_type": "code",
   "execution_count": 11,
   "metadata": {},
   "outputs": [
    {
     "name": "stdout",
     "output_type": "stream",
     "text": [
      "2 1 1 1\n",
      "1 1 0 2\n",
      "1 1 3 2\n",
      "1 1 2 2\n",
      "1 2 1 3\n",
      "1 2 0 3\n",
      "1 2 3 3\n",
      "2 2 2 4\n",
      "2 2 1 4\n",
      "2 2 0 4\n",
      "2 2 3 4\n",
      "1 2 2 4\n",
      "1 3 1 5\n",
      "1 3 0 5\n",
      "1 3 3 5\n",
      "1 3 2 5\n",
      "1 2 1 5\n",
      "1 2 0 5\n",
      "1 2 3 5\n",
      "1 2 2 5\n",
      "1 1 1 5\n",
      "1 1 0 5\n",
      "1 1 3 5\n",
      "1 1 2 5\n",
      "1 1 1\n",
      "[[1, 1, 1, 1, 1], [1, 2, 2, 2, 1], [1, 2, 2, 1, 1], [1, 0, 1, 0, 1], [1, 1, 1, 1, 1]]\n",
      "5\n"
     ]
    }
   ],
   "source": [
    "world_n, world_m = map(int, input().split())\n",
    "n, m, direction = map(int, input().split())\n",
    "\n",
    "world = [list(map(int, input().split())) for _ in range(world_n)]\n",
    "\n",
    "moves = [(-1, 0), (0, 1), (1, 0), (0, -1)]\n",
    "\n",
    "world[n][m] = 2 ## 맨 처음 땅은 가본 채로 시작하므로, 2로 설정\n",
    "count = 1   ## 맨 처음 도착한 땅이 있으니 1\n",
    "turn_time = 0\n",
    "\n",
    "\n",
    "while True:\n",
    "    direction = direction - 1 if direction > 0 else 3   ## 매 번 방향 돌리기 0->3->2->1->0\n",
    "    dn, dm = n + moves[direction][0], m + moves[direction][1]   ## 내 앞의 땅을 계산해보기\n",
    "    ## 1-1. 내 앞의 땅이 안 가본 땅(0)인지 확인하기\n",
    "    if world[dn][dm] == 0:\n",
    "        n, m = dn, dm   ## 내 앞의 땅이 안 가본 땅이면, 거기로 이동한다!\n",
    "        \n",
    "        count += 1\n",
    "        world[n][m] = 2 ## 가본 땅으로 표시하기\n",
    "        turn_time = 0\n",
    "    \n",
    "    ## 1-2. 내 앞의 땅이 안가본 땅이 아닌지, 즉 바다(1)거나 가본 땅(2)인지 확인하기\n",
    "    elif world[dn][dm] != 0:\n",
    "        turn_time += 1\n",
    "    \n",
    "    ## 2. 네 번 좌회전하며 다 살펴봤는데도, 갈 곳이 없는 경우 == 네 면이 전부 바다(1) or 가본 땅(2)\n",
    "    if turn_time == 4:\n",
    "        dn, dm = n - moves[direction][0], m - moves[direction][1]\n",
    "        \n",
    "        ## 2-1. 내 뒤의 땅이 가본 땅(2)인지 확인하기\n",
    "        if world[dn][dm] == 2:\n",
    "            n, m = dn, dm   ## 내 뒤의 땅이 가본 땅(2)이면, 후진한다!\n",
    "            \n",
    "        ## 2-1. 내 뒤의 땅이 바다(1)인지 확인하기\n",
    "        else:\n",
    "            break\n",
    "        \n",
    "        turn_time = 0\n",
    "        \n",
    "\n",
    "print(count)"
   ]
  }
 ],
 "metadata": {
  "kernelspec": {
   "display_name": "Python 3",
   "language": "python",
   "name": "python3"
  },
  "language_info": {
   "codemirror_mode": {
    "name": "ipython",
    "version": 3
   },
   "file_extension": ".py",
   "mimetype": "text/x-python",
   "name": "python",
   "nbconvert_exporter": "python",
   "pygments_lexer": "ipython3",
   "version": "3.10.11"
  }
 },
 "nbformat": 4,
 "nbformat_minor": 2
}
