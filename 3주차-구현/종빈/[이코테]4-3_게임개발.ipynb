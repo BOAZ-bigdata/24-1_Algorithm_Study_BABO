{
 "cells": [
  {
   "cell_type": "code",
   "execution_count": 16,
   "metadata": {},
   "outputs": [
    {
     "name": "stdout",
     "output_type": "stream",
     "text": [
      "3\n"
     ]
    }
   ],
   "source": [
    "world_n, world_m = map(int, input().split())\n",
    "n, m, d = map(int, input().split())\n",
    "\n",
    "world = [list(map(int, input().split())) for _ in range(world_n)]\n",
    "\n",
    "moves = [(-1, 0), (0, 1), (1, 0), (0, -1)]\n",
    "\n",
    "world[n][m] = 2 ## 가본 땅은 2로 값 설정\n",
    "count = 1   ## 맨 처음 도착한 땅이 있으니 1\n",
    "turn_time = 0\n",
    "while True:\n",
    "    d = (d + 1) % 4\n",
    "    dn, dm = n + moves[d][0], m + moves[d][1]\n",
    "    if world[dn][dm] == 0:\n",
    "        n, m = dn, dm\n",
    "        \n",
    "        count += 1\n",
    "        turn_time = 0\n",
    "        world[n][m] = 2\n",
    "    \n",
    "    elif world[dn][dm] != 0:\n",
    "        turn_time += 1\n",
    "    \n",
    "    if turn_time == 4:\n",
    "        dn, dm = n - moves[d][0], m - moves[d][1]\n",
    "        if world[dn][dm] == 2:\n",
    "            n, m = dn, dm\n",
    "        \n",
    "        else:\n",
    "            break\n",
    "        \n",
    "        turn_time = 0\n",
    "    \n",
    "print(count)"
   ]
  }
 ],
 "metadata": {
  "kernelspec": {
   "display_name": "Python 3",
   "language": "python",
   "name": "python3"
  },
  "language_info": {
   "codemirror_mode": {
    "name": "ipython",
    "version": 3
   },
   "file_extension": ".py",
   "mimetype": "text/x-python",
   "name": "python",
   "nbconvert_exporter": "python",
   "pygments_lexer": "ipython3",
   "version": "3.10.11"
  }
 },
 "nbformat": 4,
 "nbformat_minor": 2
}
