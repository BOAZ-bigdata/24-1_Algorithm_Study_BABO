{
 "cells": [
  {
   "cell_type": "code",
   "execution_count": 3,
   "metadata": {},
   "outputs": [
    {
     "name": "stdout",
     "output_type": "stream",
     "text": [
      "3 4\n"
     ]
    }
   ],
   "source": [
    "N = int(input())\n",
    "moves = input().split()\n",
    "\n",
    "position_y, position_x = 1, 1\n",
    "for move in moves:\n",
    "    if move == 'R':\n",
    "        position_x += 1\n",
    "    \n",
    "    elif move == 'L':\n",
    "        position_x -= 1\n",
    "    \n",
    "    elif move == 'U':\n",
    "        position_y -= 1\n",
    "    \n",
    "    else:\n",
    "        position_y += 1\n",
    "    \n",
    "    \n",
    "    if position_x > N:\n",
    "        position_x = N\n",
    "    \n",
    "    if position_x < 1:\n",
    "        position_x = 1\n",
    "    \n",
    "    if position_y > N:\n",
    "        position_y = N\n",
    "    \n",
    "    if position_y < 1:\n",
    "        position_y = 1\n",
    "\n",
    "print(position_y, position_x)"
   ]
  }
 ],
 "metadata": {
  "kernelspec": {
   "display_name": "Python 3",
   "language": "python",
   "name": "python3"
  },
  "language_info": {
   "codemirror_mode": {
    "name": "ipython",
    "version": 3
   },
   "file_extension": ".py",
   "mimetype": "text/x-python",
   "name": "python",
   "nbconvert_exporter": "python",
   "pygments_lexer": "ipython3",
   "version": "3.10.11"
  }
 },
 "nbformat": 4,
 "nbformat_minor": 2
}
