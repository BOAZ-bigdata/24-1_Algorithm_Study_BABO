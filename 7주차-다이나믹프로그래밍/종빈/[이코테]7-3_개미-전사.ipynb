{
 "cells": [
  {
   "cell_type": "code",
   "execution_count": 6,
   "metadata": {},
   "outputs": [
    {
     "name": "stdout",
     "output_type": "stream",
     "text": [
      "8\n"
     ]
    }
   ],
   "source": [
    "N = int(input())\n",
    "foods = list(map(int, (input().split())))\n",
    "\n",
    "d = [0] * (N)\n",
    "\n",
    "\n",
    "for i in range(N):\n",
    "    if i == 0:\n",
    "        d[i] = foods[i]\n",
    "        continue\n",
    "\n",
    "    if i == 1:\n",
    "        d[i] = max(foods[i-1], foods[i])\n",
    "        continue\n",
    "    \n",
    "    d[i] = max(d[i-2] + foods[i], d[i-1])\n",
    "    \n",
    "print(d[N-1])\n",
    "        "
   ]
  }
 ],
 "metadata": {
  "kernelspec": {
   "display_name": "Python 3",
   "language": "python",
   "name": "python3"
  },
  "language_info": {
   "codemirror_mode": {
    "name": "ipython",
    "version": 3
   },
   "file_extension": ".py",
   "mimetype": "text/x-python",
   "name": "python",
   "nbconvert_exporter": "python",
   "pygments_lexer": "ipython3",
   "version": "3.10.11"
  }
 },
 "nbformat": 4,
 "nbformat_minor": 2
}
