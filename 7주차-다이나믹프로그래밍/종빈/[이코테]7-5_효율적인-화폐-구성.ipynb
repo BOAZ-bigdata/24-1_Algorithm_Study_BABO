{
 "cells": [
  {
   "cell_type": "markdown",
   "metadata": {},
   "source": [
    "처음 풀이\n",
    "- 반례?"
   ]
  },
  {
   "cell_type": "code",
   "execution_count": 15,
   "metadata": {},
   "outputs": [
    {
     "name": "stdout",
     "output_type": "stream",
     "text": [
      "2\n"
     ]
    }
   ],
   "source": [
    "N, M = map(int, input().split())\n",
    "moneys = sorted([int(input()) for _ in range(N)], reverse=True)\n",
    "\n",
    "cnt = 0\n",
    "for money in moneys:\n",
    "    if M == 0:\n",
    "        break\n",
    "    \n",
    "    cnt += (M // money)\n",
    "    M = (M % money)\n",
    "\n",
    "if M == 0:\n",
    "    print(cnt)\n",
    "else:\n",
    "    print(-1)"
   ]
  },
  {
   "cell_type": "markdown",
   "metadata": {},
   "source": [
    "정답 코드"
   ]
  },
  {
   "cell_type": "code",
   "execution_count": 20,
   "metadata": {},
   "outputs": [
    {
     "name": "stdout",
     "output_type": "stream",
     "text": [
      "-1\n"
     ]
    }
   ],
   "source": [
    "n, m = map(int, input().split())\n",
    "array = []\n",
    "for i in range(n):\n",
    "    array.append(int(input()))\n",
    "    \n",
    "d = [10001] * (m+1)\n",
    "d[0] = 0\n",
    "\n",
    "for i in range(n):\n",
    "    for j in range(array[i], m+1):\n",
    "        if d[j - array[i]] != 10001:\n",
    "            d[j] = min(d[j], d[j - array[i]] + 1)\n",
    "\n",
    "if d[m] == 10001:\n",
    "    print(-1)\n",
    "else:\n",
    "    print(d[m])"
   ]
  },
  {
   "cell_type": "markdown",
   "metadata": {},
   "source": [
    "내가 다시 생각해본 코드"
   ]
  },
  {
   "cell_type": "code",
   "execution_count": 22,
   "metadata": {},
   "outputs": [
    {
     "name": "stdout",
     "output_type": "stream",
     "text": [
      "-1\n"
     ]
    }
   ],
   "source": [
    "n, m = map(int, input().split())\n",
    "coins = sorted([int(input()) for _ in range(n)])\n",
    "\n",
    "d = [10001] * (m+1)\n",
    "d[0] = 0\n",
    "\n",
    "for i in range(n):  ## i번째 화폐로 해봅시다\n",
    "    for j in range(coins[i], m+1):\n",
    "        if d[j - coins[i]] != 10001:\n",
    "            d[j] = min(d[j], d[j - coins[i]] + 1)\n",
    "            \n",
    "\n",
    "if d[m] == 10001:\n",
    "    print(-1)\n",
    "    \n",
    "else:\n",
    "    print(d[m])"
   ]
  }
 ],
 "metadata": {
  "kernelspec": {
   "display_name": "Python 3",
   "language": "python",
   "name": "python3"
  },
  "language_info": {
   "codemirror_mode": {
    "name": "ipython",
    "version": 3
   },
   "file_extension": ".py",
   "mimetype": "text/x-python",
   "name": "python",
   "nbconvert_exporter": "python",
   "pygments_lexer": "ipython3",
   "version": "3.10.11"
  }
 },
 "nbformat": 4,
 "nbformat_minor": 2
}
