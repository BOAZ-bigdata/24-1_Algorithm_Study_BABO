{
 "cells": [
  {
   "cell_type": "code",
   "execution_count": 3,
   "metadata": {},
   "outputs": [
    {
     "data": {
      "text/plain": [
       "[(0, 0, 1),\n",
       " (1, 0, 2),\n",
       " (1, 1, 3),\n",
       " (1, 2, 4),\n",
       " (0, 2, 5),\n",
       " (1, 3, 5),\n",
       " (1, 4, 6),\n",
       " (0, 4, 7),\n",
       " (1, 5, 7),\n",
       " (2, 5, 8),\n",
       " (3, 5, 9),\n",
       " (4, 5, 10),\n",
       " (3, 4, 10),\n",
       " (4, 4, 11),\n",
       " (3, 3, 11),\n",
       " (4, 3, 12),\n",
       " (3, 2, 12),\n",
       " (4, 2, 13),\n",
       " (3, 1, 13),\n",
       " (4, 1, 14),\n",
       " (3, 0, 14),\n",
       " (4, 0, 15)]"
      ]
     },
     "execution_count": 3,
     "metadata": {},
     "output_type": "execute_result"
    }
   ],
   "source": [
    "## 목표 지점(맨 우측 하단)에 도달해도, 전체 지도에 대해서 거리를 모두 구하는 코드\n",
    "from collections import deque\n",
    "\n",
    "N, M = map(int, input().split())\n",
    "maze = [list(map(int, list(input()))) for _ in range(N)]\n",
    "\n",
    "# ways_to_go = deque([(0, 0, 1)])\n",
    "def bfs(maze, node):\n",
    "    need_visited, visited = deque(), []\n",
    "    need_visited.append(node)\n",
    "    \n",
    "    while need_visited:\n",
    "        node = need_visited.popleft()\n",
    "        n, m, d = node\n",
    "        \n",
    "        if maze[n][m] == 1:\n",
    "            visited.append((n, m, d))\n",
    "            maze[n][m] = 0\n",
    "        \n",
    "        d += 1\n",
    "        if (n-1 >= 0) and maze[n-1][m] == 1:\n",
    "            need_visited.append((n-1, m, d))\n",
    "        \n",
    "        if (n+1 <= N-1) and maze[n+1][m] == 1:\n",
    "            need_visited.append((n+1, m, d))\n",
    "\n",
    "        if (m-1 >= 0) and maze[n][m-1] == 1:\n",
    "            need_visited.append((n, m-1, d))\n",
    "\n",
    "        if (m+1 <= M-1) and maze[n][m+1] == 1:\n",
    "            need_visited.append((n, m+1, d))\n",
    "            \n",
    "    return visited\n",
    "\n",
    "bfs(maze, (0, 0, 1))"
   ]
  },
  {
   "cell_type": "code",
   "execution_count": 7,
   "metadata": {},
   "outputs": [
    {
     "name": "stdout",
     "output_type": "stream",
     "text": [
      "5\n"
     ]
    }
   ],
   "source": [
    "## 미로의 끝 지점(맨 우측 하단)에 도달하면, 반복을 중단하는 코드\n",
    "from collections import deque\n",
    "\n",
    "N, M = map(int, input().split())\n",
    "maze = [list(map(int, list(input()))) for _ in range(N)]\n",
    "\n",
    "def bfs(maze, node):\n",
    "    need_visited, visited = deque(), []\n",
    "    need_visited.append(node)\n",
    "    n = m = 0\n",
    "    while (n != N-1) or (m != M-1):\n",
    "        node = need_visited.popleft()\n",
    "        n, m, d = node\n",
    "        if maze[n][m] == 1:\n",
    "            visited.append((n, m, d))\n",
    "            maze[n][m] = 0\n",
    "        \n",
    "        d += 1\n",
    "        if (n-1 >= 0) and maze[n-1][m] == 1:\n",
    "            need_visited.append((n-1, m, d))\n",
    "        \n",
    "        if (n+1 <= N-1) and maze[n+1][m] == 1:\n",
    "            need_visited.append((n+1, m, d))\n",
    "\n",
    "        if (m-1 >= 0) and maze[n][m-1] == 1:\n",
    "            need_visited.append((n, m-1, d))\n",
    "\n",
    "        if (m+1 <= M-1) and maze[n][m+1] == 1:\n",
    "            need_visited.append((n, m+1, d))\n",
    "            \n",
    "    return visited\n",
    "\n",
    "destination = bfs(maze, (0, 0, 1))[-1]\n",
    "\n",
    "print(destination[2])"
   ]
  },
  {
   "cell_type": "code",
   "execution_count": 1,
   "metadata": {},
   "outputs": [
    {
     "name": "stdout",
     "output_type": "stream",
     "text": [
      "5\n",
      "[[3, 2, 0], [0, 3, 0], [0, 4, 5]]\n"
     ]
    }
   ],
   "source": [
    "## 교재 코드. 역시 지도 전체에 대해서 거리를 다 구한다.\n",
    "from collections import deque\n",
    "\n",
    "# N, M을 공백을 기준으로 구분하여 입력 받기\n",
    "n, m = map(int, input().split())\n",
    "# 2차원 리스트의 맵 정보 입력 받기\n",
    "graph = []\n",
    "for i in range(n):\n",
    "    graph.append(list(map(int, input())))\n",
    "\n",
    "# 이동할 네 가지 방향 정의 (상, 하, 좌, 우)\n",
    "dx = [-1, 1, 0, 0]\n",
    "dy = [0, 0, -1, 1]\n",
    "\n",
    "# BFS 소스코드 구현\n",
    "def bfs(x, y):\n",
    "    # 큐(Queue) 구현을 위해 deque 라이브러리 사용\n",
    "    queue = deque()\n",
    "    queue.append((x, y))\n",
    "    # 큐가 빌 때까지 반복하기\n",
    "    while queue:\n",
    "        x, y = queue.popleft()\n",
    "        # 현재 위치에서 4가지 방향으로의 위치 확인\n",
    "        for i in range(4):\n",
    "            nx = x + dx[i]\n",
    "            ny = y + dy[i]\n",
    "            # 미로 찾기 공간을 벗어난 경우 무시\n",
    "            if nx < 0 or nx >= n or ny < 0 or ny >= m:\n",
    "                continue\n",
    "            # 벽인 경우 무시\n",
    "            if graph[nx][ny] == 0:\n",
    "                continue\n",
    "            # 해당 노드를 처음 방문하는 경우에만 최단 거리 기록\n",
    "            if graph[nx][ny] == 1:\n",
    "                graph[nx][ny] = graph[x][y] + 1\n",
    "                queue.append((nx, ny))\n",
    "    # 가장 오른쪽 아래까지의 최단 거리 반환\n",
    "    return graph[n - 1][m - 1]\n",
    "\n",
    "# BFS를 수행한 결과 출력\n",
    "print(bfs(0, 0))\n",
    "print(graph)"
   ]
  }
 ],
 "metadata": {
  "kernelspec": {
   "display_name": "Python 3",
   "language": "python",
   "name": "python3"
  },
  "language_info": {
   "codemirror_mode": {
    "name": "ipython",
    "version": 3
   },
   "file_extension": ".py",
   "mimetype": "text/x-python",
   "name": "python",
   "nbconvert_exporter": "python",
   "pygments_lexer": "ipython3",
   "version": "3.10.11"
  }
 },
 "nbformat": 4,
 "nbformat_minor": 2
}
