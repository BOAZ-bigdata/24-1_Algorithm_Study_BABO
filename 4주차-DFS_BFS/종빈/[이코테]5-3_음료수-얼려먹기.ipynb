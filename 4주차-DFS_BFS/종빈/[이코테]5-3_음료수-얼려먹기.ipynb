{
 "cells": [
  {
   "cell_type": "code",
   "execution_count": null,
   "metadata": {},
   "outputs": [],
   "source": [
    "from typing import *\n",
    "\n",
    "N, M = map(int, input().split())\n",
    "blanks = [list(map(int, list(input()))) for _ in range(N)]\n",
    "\n",
    "def dfs(blanks: List[List[int]], current_yx: Tuple[int]) -> None:\n",
    "    y, x = current_yx\n",
    "    # print(y, x)\n",
    "    blanks[y][x] = 1\n",
    "    \n",
    "    stack = []\n",
    "    if y+1 <= (N-1) and (blanks[y+1][x] == 0):\n",
    "        stack.append((y+1, x))\n",
    "\n",
    "    if y-1 >= 0 and (blanks[y-1][x] == 0):\n",
    "        stack.append((y-1, x))\n",
    "            \n",
    "    if x+1 <= (M-1) and (blanks[y][x+1] == 0):\n",
    "        stack.append((y, x+1))\n",
    "    \n",
    "    if x-1 >= 0 and (blanks[y][x-1] == 0):\n",
    "        stack.append((y, x-1))\n",
    "\n",
    "\n",
    "    \n",
    "    for n, m in stack:\n",
    "        if blanks[n][m] == 0:\n",
    "            dfs(blanks, (n, m))\n",
    "    # print(f\"{y} {x} recursive end\")\n",
    "    \n",
    "\n",
    "cnt = 0\n",
    "for i in range(N):\n",
    "    for j in range(M):\n",
    "        if blanks[i][j] == 0:\n",
    "            dfs(blanks, (i, j))\n",
    "            cnt += 1\n",
    "            # print(f'count: {cnt}')\n",
    "\n",
    "print(cnt)"
   ]
  },
  {
   "cell_type": "code",
   "execution_count": null,
   "metadata": {},
   "outputs": [],
   "source": [
    "from typing import *\n",
    "\n",
    "N, M = map(int, input().split())\n",
    "blanks = [list(map(int, list(input()))) for _ in range(N)]\n",
    "\n",
    "def dfs(blanks, yx):\n",
    "    y, x = yx\n",
    "    if (y <= -1) or (y >= N) or (x <= -1) or (x >= M):\n",
    "        return False\n",
    "\n",
    "    if blanks[y][x] == 0:\n",
    "        blanks[y][x] = 1\n",
    "        \n",
    "        dfs(y-1, x)\n",
    "        dfs(y+1, x)\n",
    "        dfs(y, x-1)\n",
    "        dfs(y, x+1)\n",
    "        \n",
    "        return True\n",
    "\n",
    "    return False\n",
    "\n",
    "cnt = 0\n",
    "for i in range(N):\n",
    "    for j in range(M):\n",
    "        if dfs(blanks, (i, j)):\n",
    "            cnt += 1"
   ]
  }
 ],
 "metadata": {
  "kernelspec": {
   "display_name": "Python 3",
   "language": "python",
   "name": "python3"
  },
  "language_info": {
   "codemirror_mode": {
    "name": "ipython",
    "version": 3
   },
   "file_extension": ".py",
   "mimetype": "text/x-python",
   "name": "python",
   "nbconvert_exporter": "python",
   "pygments_lexer": "ipython3",
   "version": "3.10.11"
  }
 },
 "nbformat": 4,
 "nbformat_minor": 2
}
