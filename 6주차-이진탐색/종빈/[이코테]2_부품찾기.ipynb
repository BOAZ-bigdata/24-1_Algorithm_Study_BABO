{
 "cells": [
  {
   "cell_type": "code",
   "execution_count": 4,
   "metadata": {},
   "outputs": [
    {
     "name": "stdout",
     "output_type": "stream",
     "text": [
      "no yes yes\n"
     ]
    }
   ],
   "source": [
    "import sys\n",
    "# input = sys.stdin.readline\n",
    "\n",
    "N = int(input())\n",
    "items = sorted(map(int, input().split()))\n",
    "\n",
    "M = int(input())\n",
    "wanted = sorted(map(int, input().split()))\n",
    "\n",
    "\n",
    "def bisect_search(array, target_value, start_idx, end_idx):\n",
    "    while start_idx <= end_idx:\n",
    "        mid = (start_idx + end_idx) // 2\\\n",
    "            \n",
    "        if target_value == array[mid]:\n",
    "            return 'yes'\n",
    "        \n",
    "        elif target_value > array[mid]:\n",
    "            start_idx = mid + 1\n",
    "        \n",
    "        else:\n",
    "            end_idx = mid - 1\n",
    "    \n",
    "    return 'no'\n",
    "\n",
    "result = []\n",
    "for target_value in wanted:\n",
    "    result.append(bisect_search(items, target_value, 0, len(items)))\n",
    "\n",
    "print(*result)"
   ]
  },
  {
   "cell_type": "markdown",
   "metadata": {},
   "source": [
    "TODO: 계수 정렬 개념 다시 공부하고, 다시 한 번 풀어보자!"
   ]
  },
  {
   "cell_type": "code",
   "execution_count": null,
   "metadata": {},
   "outputs": [],
   "source": []
  }
 ],
 "metadata": {
  "kernelspec": {
   "display_name": "Python 3",
   "language": "python",
   "name": "python3"
  },
  "language_info": {
   "codemirror_mode": {
    "name": "ipython",
    "version": 3
   },
   "file_extension": ".py",
   "mimetype": "text/x-python",
   "name": "python",
   "nbconvert_exporter": "python",
   "pygments_lexer": "ipython3",
   "version": "3.10.11"
  }
 },
 "nbformat": 4,
 "nbformat_minor": 2
}
