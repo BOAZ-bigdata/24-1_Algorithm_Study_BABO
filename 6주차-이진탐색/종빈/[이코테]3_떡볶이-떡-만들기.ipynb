{
 "cells": [
  {
   "cell_type": "markdown",
   "metadata": {},
   "source": [
    "처음 작성한 잘못된 코드.\n",
    "\n",
    "예제에 대해서는 문제가 풀리지만, 그 외에는 안될 것임.\n",
    "\n",
    "이유는 절단기 길이를 오직 주어진 떡의 길이에 대해서만 돌리기 때문."
   ]
  },
  {
   "cell_type": "code",
   "execution_count": 6,
   "metadata": {},
   "outputs": [
    {
     "name": "stdout",
     "output_type": "stream",
     "text": [
      "2 [17, 19]\n",
      "2\n",
      "0 [10, 15, 17, 19]\n",
      "21\n",
      "1 [15, 17, 19]\n",
      "6\n",
      "15\n"
     ]
    }
   ],
   "source": [
    "N, M = map(int, input().split())\n",
    "items = sorted(map(int, input().split()))\n",
    "\n",
    "def bisect_search(items, target_result, start_idx, end_idx):\n",
    "    while start_idx <= end_idx:\n",
    "        mid_idx = (start_idx + end_idx) // 2\n",
    "        cutted_result = sum(items[mid_idx:]) - (items[mid_idx] * len(items[mid_idx:]))\n",
    "        \n",
    "        if target_result == cutted_result:\n",
    "            return items[mid_idx]\n",
    "        \n",
    "        elif target_result <= cutted_result:\n",
    "            start_idx = mid_idx + 1\n",
    "        \n",
    "        else:\n",
    "            end_idx = mid_idx - 1\n",
    "            \n",
    "    return None\n",
    "\n",
    "print(bisect_search(items, M, 0, len(items)))"
   ]
  },
  {
   "cell_type": "markdown",
   "metadata": {},
   "source": [
    "수정한 코드"
   ]
  },
  {
   "cell_type": "code",
   "execution_count": 9,
   "metadata": {},
   "outputs": [
    {
     "name": "stdout",
     "output_type": "stream",
     "text": [
      "15\n"
     ]
    }
   ],
   "source": [
    "N, M = map(int, input().split())\n",
    "items = sorted(map(int, input().split()))\n",
    "\n",
    "def bisect_search(items, target_result, start_length, end_length):\n",
    "    while start_length <= end_length:\n",
    "        mid_length = (start_length + end_length) // 2\n",
    "        cutted_result = sum([item - mid_length for item in items if item > mid_length])\n",
    "        \n",
    "        if target_result == cutted_result:\n",
    "            return mid_length\n",
    "        \n",
    "        elif target_result <= cutted_result:\n",
    "            start_length = mid_length + 1\n",
    "        \n",
    "        else:\n",
    "            end_length = mid_length - 1\n",
    "            \n",
    "    return None\n",
    "\n",
    "print(bisect_search(items, M, 0, items[-1]))"
   ]
  }
 ],
 "metadata": {
  "kernelspec": {
   "display_name": "Python 3",
   "language": "python",
   "name": "python3"
  },
  "language_info": {
   "codemirror_mode": {
    "name": "ipython",
    "version": 3
   },
   "file_extension": ".py",
   "mimetype": "text/x-python",
   "name": "python",
   "nbconvert_exporter": "python",
   "pygments_lexer": "ipython3",
   "version": "3.10.11"
  }
 },
 "nbformat": 4,
 "nbformat_minor": 2
}
