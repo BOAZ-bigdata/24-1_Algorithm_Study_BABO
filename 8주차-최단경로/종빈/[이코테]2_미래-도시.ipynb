{
 "cells": [
  {
   "cell_type": "code",
   "execution_count": 12,
   "metadata": {},
   "outputs": [
    {
     "name": "stdout",
     "output_type": "stream",
     "text": [
      "-1\n"
     ]
    }
   ],
   "source": [
    "N, M  = map(int, input().split())\n",
    "\n",
    "\n",
    "graph = [[float('inf')] * (N+1) for _ in range(N+1)]\n",
    "for from_node in range(1, N+1):\n",
    "    graph[from_node][from_node] = 0\n",
    "    \n",
    "for _  in range(M):\n",
    "    from_node, to_node = map(int, input().split())\n",
    "    graph[from_node][to_node] = 1\n",
    "    graph[to_node][from_node] = 1\n",
    "    \n",
    "X, K = map(int, input().split())\n",
    "    \n",
    "for bypass_node in range(1, N+1):\n",
    "    for from_node in range(1, N+1):\n",
    "        for to_node in range(1, N+1):\n",
    "            graph[from_node][to_node] = min(graph[from_node][to_node], graph[from_node][bypass_node] +  graph[bypass_node][to_node])\n",
    "\n",
    "cost = graph[1][K] +  graph[K][X]\n",
    "print(cost if isinstance(cost, int) else -1)"
   ]
  }
 ],
 "metadata": {
  "kernelspec": {
   "display_name": "Python 3",
   "language": "python",
   "name": "python3"
  },
  "language_info": {
   "codemirror_mode": {
    "name": "ipython",
    "version": 3
   },
   "file_extension": ".py",
   "mimetype": "text/x-python",
   "name": "python",
   "nbconvert_exporter": "python",
   "pygments_lexer": "ipython3",
   "version": "3.10.11"
  }
 },
 "nbformat": 4,
 "nbformat_minor": 2
}
