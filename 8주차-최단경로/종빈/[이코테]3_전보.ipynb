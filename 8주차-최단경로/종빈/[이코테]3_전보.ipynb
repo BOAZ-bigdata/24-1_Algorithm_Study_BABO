{
 "cells": [
  {
   "cell_type": "code",
   "execution_count": 5,
   "metadata": {},
   "outputs": [
    {
     "name": "stdout",
     "output_type": "stream",
     "text": [
      "2 4\n"
     ]
    }
   ],
   "source": [
    "from collections import defaultdict\n",
    "from heapq import heappush, heappop\n",
    "\n",
    "N, M, start = map(int, input().split()) ## 노드개수, 그래프 개수, 시작 지점\n",
    "min_dists = [float('inf')] * (N+1)\n",
    "\n",
    "graph = defaultdict(list)\n",
    "for _ in range(M):\n",
    "    from_node, to_node, cost = map(int, input().split())\n",
    "    graph[from_node].append((to_node, cost))\n",
    "\n",
    "def dijkstra(start):\n",
    "    q = []\n",
    "    min_dists[start] = 0\n",
    "    heappush(q, (0, start))\n",
    "    \n",
    "    while q:\n",
    "        current_dist, nearby_node = heappop(q)\n",
    "        \n",
    "        if min_dists[nearby_node] < current_dist:\n",
    "            continue\n",
    "        \n",
    "        for to_node, dist in graph[nearby_node]:\n",
    "            detouring_dist = current_dist +  dist   ## nearby node까지 왔을 때의 거리 +  (nearby node ~ to node)의 거리\n",
    "            if detouring_dist < min_dists[to_node]:\n",
    "                min_dists[to_node] = detouring_dist\n",
    "                heappush(q, (detouring_dist, to_node))\n",
    "        \n",
    "        \n",
    "dijkstra(start)\n",
    "\n",
    "min_dists = min_dists[1:]   ## 첫번째 원소는 인덱스 순서를 맞추기 위함.\n",
    "print(num_cities := len(min_dists) - min_dists.count(0), max(min_dists))"
   ]
  }
 ],
 "metadata": {
  "kernelspec": {
   "display_name": "Python 3",
   "language": "python",
   "name": "python3"
  },
  "language_info": {
   "codemirror_mode": {
    "name": "ipython",
    "version": 3
   },
   "file_extension": ".py",
   "mimetype": "text/x-python",
   "name": "python",
   "nbconvert_exporter": "python",
   "pygments_lexer": "ipython3",
   "version": "3.10.11"
  }
 },
 "nbformat": 4,
 "nbformat_minor": 2
}
